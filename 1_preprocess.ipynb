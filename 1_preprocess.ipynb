{
 "cells": [
  {
   "cell_type": "code",
   "execution_count": 1,
   "metadata": {},
   "outputs": [],
   "source": [
    "#!pip install wget\n",
    "import wget, tarfile\n",
    "import pandas as pd\n",
    "import numpy as np\n",
    "import pickle\n",
    "import gc"
   ]
  },
  {
   "cell_type": "code",
   "execution_count": null,
   "metadata": {},
   "outputs": [],
   "source": [
    "wget.download(\"https://tesla-ap-shanghai-1256322946.cos.ap-shanghai.myqcloud.com/cephfs/tesla_common/deeplearning/dataset/algo_contest/train_preliminary.zip\")\n",
    "wget.download(\"https://tesla-ap-shanghai-1256322946.cos.ap-shanghai.myqcloud.com/cephfs/tesla_common/deeplearning/dataset/algo_contest/test.zip\")\n",
    "wget.download(\"https://tesla-ap-guangzhou-1256322946.cos.ap-guangzhou.myqcloud.com/cephfs/tesla_common/deeplearning/dataset/algo_contest/train_semi_final.zip\")"
   ]
  },
  {
   "cell_type": "code",
   "execution_count": null,
   "metadata": {},
   "outputs": [],
   "source": [
    "!mkdir ./data\n",
    "!unzip test.zip -d ./data\n",
    "!unzip train_preliminary.zip -d ./data\n",
    "!unzip train_semi_final.zip -d ./data"
   ]
  },
  {
   "cell_type": "code",
   "execution_count": 3,
   "metadata": {},
   "outputs": [],
   "source": [
    "ad_test = pd.read_csv('./data/test/ad.csv')\n",
    "click_test = pd.read_csv('./data/test/click_log.csv')\n",
    "ad_train = pd.read_csv('./data/train_preliminary/ad.csv')\n",
    "ad_semi_train = pd.read_csv('./data/train_semi_final/ad.csv')\n",
    "click_train = pd.read_csv('./data/train_preliminary/click_log.csv')\n",
    "click_semi_train = pd.read_csv('./data/train_semi_final/click_log.csv')"
   ]
  },
  {
   "cell_type": "code",
   "execution_count": 5,
   "metadata": {},
   "outputs": [],
   "source": [
    "ad_all_train = pd.concat([ad_train, ad_semi_train], axis=0).reset_index(drop=True)\n",
    "click_all_train = pd.concat([click_train, click_semi_train], axis=0).reset_index(drop=True)\n",
    "ad_all_train = ad_all_train.drop_duplicates().reset_index(drop=True)\n",
    "click_all_train = click_all_train.drop_duplicates().reset_index(drop=True)\n",
    "\n",
    "del ad_train,ad_semi_train,click_train,click_semi_train\n",
    "gc.collect()"
   ]
  },
  {
   "cell_type": "code",
   "execution_count": 7,
   "metadata": {},
   "outputs": [],
   "source": [
    "train_data = click_all_train.merge(ad_all_train, 'left', 'creative_id')\n",
    "test_data = click_test.merge(ad_test, 'left', 'creative_id')\n",
    "all_data = pd.concat([train_data, test_data], axis=0, sort=False).sort_values(by=['time', 'user_id']).reset_index(drop=True)\n",
    "train_data.to_pickle('./data/train.pkl')\n",
    "test_data.to_pickle('./data/test.pkl')\n",
    "all_data.to_pickle('./data/data.pkl')"
   ]
  }
 ],
 "metadata": {
  "kernelspec": {
   "display_name": "conda_tensorflow_py3",
   "language": "python",
   "name": "conda_tensorflow_py3"
  },
  "language_info": {
   "codemirror_mode": {
    "name": "ipython",
    "version": 3
   },
   "file_extension": ".py",
   "mimetype": "text/x-python",
   "name": "python",
   "nbconvert_exporter": "python",
   "pygments_lexer": "ipython3",
   "version": "3.6.5"
  }
 },
 "nbformat": 4,
 "nbformat_minor": 4
}
