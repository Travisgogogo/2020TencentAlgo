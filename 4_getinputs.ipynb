{
 "cells": [
  {
   "cell_type": "code",
   "execution_count": 1,
   "metadata": {},
   "outputs": [],
   "source": [
    "import os\n",
    "import pickle\n",
    "import gc\n",
    "import time\n",
    "import pandas as pd\n",
    "import numpy as np\n",
    "from tqdm import tqdm\n",
    "tqdm.pandas()"
   ]
  },
  {
   "cell_type": "code",
   "execution_count": 2,
   "metadata": {},
   "outputs": [],
   "source": [
    "class Config(object):\n",
    "    embeddingSize = 256\n",
    "    sequenceLength = 150\n",
    "    #sequenceLength = 90\n",
    "\n",
    "config = Config()"
   ]
  },
  {
   "cell_type": "code",
   "execution_count": null,
   "metadata": {},
   "outputs": [],
   "source": [
    "%%time\n",
    "is_test = True\n",
    "\n",
    "click_times = pd.read_pickle('./idlist/click_times_list.pkl')\n",
    "for col in tqdm(['creative_id', 'ad_id', 'advertiser_id', 'product_id', 'industry','product_category']):    \n",
    "    list_d = pd.read_pickle('./idlist/{}_list.pkl'.format(col))\n",
    "    We = np.load('./w2v_256_10/{}_embedding_weight.npy'.format(col))\n",
    "    We = np.vstack([We, np.zeros(config.embeddingSize)])\n",
    "    list_d = list(list_d)\n",
    "    for i in range(len(list_d)):\n",
    "        ret = []\n",
    "        for j in range(len(list_d[i])):\n",
    "            ret += [list_d[i][j]] * click_times[i][j]\n",
    "        list_d[i] = ret      \n",
    "        \n",
    "        if len(list_d[i]) > config.sequenceLength:\n",
    "            list_d[i] = list_d[i][:config.sequenceLength]\n",
    "        else:\n",
    "            list_d[i] += [len(We)-1] * (config.sequenceLength - len(list_d[i]))\n",
    "    list_d = np.array(list_d)\n",
    "    list_d = list_d.astype(np.int32) #减少内存使用量\n",
    "    np.save('./inputs_new/{}_inputs_train.npy'.format(col), list_d[:3000000])\n",
    "    np.save('./inputs_new/{}_inputs_test.npy'.format(col), list_d[3000000:])\n",
    "    del list_d\n",
    "    gc.collect()"
   ]
  }
 ],
 "metadata": {
  "kernelspec": {
   "display_name": "conda_tensorflow_py3",
   "language": "python",
   "name": "conda_tensorflow_py3"
  },
  "language_info": {
   "codemirror_mode": {
    "name": "ipython",
    "version": 3
   },
   "file_extension": ".py",
   "mimetype": "text/x-python",
   "name": "python",
   "nbconvert_exporter": "python",
   "pygments_lexer": "ipython3",
   "version": "3.6.5"
  }
 },
 "nbformat": 4,
 "nbformat_minor": 4
}
