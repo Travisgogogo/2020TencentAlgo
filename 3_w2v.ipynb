{
 "cells": [
  {
   "cell_type": "code",
   "execution_count": 4,
   "metadata": {},
   "outputs": [],
   "source": [
    "import os\n",
    "import pickle\n",
    "import gc\n",
    "import gensim\n",
    "import time\n",
    "from gensim import corpora, models, similarities\n",
    "from gensim.models.doc2vec import TaggedDocument\n",
    "import pandas as pd\n",
    "import numpy as np\n",
    "from tqdm import tqdm\n",
    "tqdm.pandas()"
   ]
  },
  {
   "cell_type": "code",
   "execution_count": null,
   "metadata": {},
   "outputs": [],
   "source": [
    "for col in ['creative_id', 'ad_id', 'product_id', 'product_category', 'advertiser_id', 'industry']:\n",
    "    list_d = pd.read_pickle('./idlist/{}_list.pkl'.format(col))\n",
    "    list_d = [list(str(item)) for item in list_d]\n",
    "    model = models.Word2Vec(list_d,sg=1,min_count=1,size=128,window=10,workers=30,iter=10)\n",
    "    We = []\n",
    "    if '0' in model.wv:\n",
    "        for i in tqdm(range(len(model.wv.index2word))):\n",
    "            We.append(model.wv[str(i)].reshape((1,-1)))\n",
    "    else:\n",
    "        We.append(np.zeros((1, 128)))\n",
    "        for i in tqdm(range(len(model.wv.index2word))):\n",
    "            We.append(model.wv[str(i+1)].reshape((1,-1)))\n",
    "    We = np.vstack(We)\n",
    "    np.save('./w2v_128_10/{}_embedding_weight.npy'.format(col), We)"
   ]
  }
 ],
 "metadata": {
  "kernelspec": {
   "display_name": "conda_tensorflow_py3",
   "language": "python",
   "name": "conda_tensorflow_py3"
  },
  "language_info": {
   "codemirror_mode": {
    "name": "ipython",
    "version": 3
   },
   "file_extension": ".py",
   "mimetype": "text/x-python",
   "name": "python",
   "nbconvert_exporter": "python",
   "pygments_lexer": "ipython3",
   "version": "3.6.5"
  }
 },
 "nbformat": 4,
 "nbformat_minor": 4
}
