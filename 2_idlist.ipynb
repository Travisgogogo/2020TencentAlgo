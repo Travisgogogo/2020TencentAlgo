{
 "cells": [
  {
   "cell_type": "code",
   "execution_count": 1,
   "metadata": {},
   "outputs": [],
   "source": [
    "import pandas as pd\n",
    "import numpy as np\n",
    "import pickle\n",
    "from tqdm import tqdm\n",
    "tqdm.pandas()\n",
    "import warnings\n",
    "warnings.filterwarnings('ignore')"
   ]
  },
  {
   "cell_type": "code",
   "execution_count": 2,
   "metadata": {},
   "outputs": [
    {
     "name": "stdout",
     "output_type": "stream",
     "text": [
      "CPU times: user 22.7 s, sys: 25 s, total: 47.7 s\n",
      "Wall time: 4min 58s\n"
     ]
    }
   ],
   "source": [
    "%%time\n",
    "train = pd.read_pickle('./data/train.pkl')\n",
    "test = pd.read_pickle('./data/test.pkl')\n",
    "data = pd.read_pickle('./data/data.pkl')"
   ]
  },
  {
   "cell_type": "code",
   "execution_count": null,
   "metadata": {},
   "outputs": [],
   "source": [
    "!mkdir ./idlist\n",
    "\n",
    "for col in tdqm(['creative_id', 'ad_id', 'product_id', 'product_category','advertiser_id','industry','click_times']):\n",
    "    tiny_data = data[['user_id', col]]\n",
    "    if col not in ['time','click_times']:\n",
    "        val_cnt = tiny_data[col].value_counts()\n",
    "        id_map = {} \n",
    "        differ = set(train[col].unique()).symmetric_difference(set(test[col].unique()))\n",
    "        common = set(train[col].unique()) and (set(test[col].unique()))\n",
    "        for v in differ: #训练集测试集不一样的也统一起来当一个id\n",
    "            id_map[v] = 0\n",
    "        for i, v in enumerate(common): #相同的按index累加当id\n",
    "            id_map[v] = i + 1\n",
    "        for v in val_cnt[val_cnt == 1].index: #出现一次的统一起来当成一个id\n",
    "            id_map[v] = 0\n",
    "        tiny_data[col] = tiny_data[col].map(id_map)\n",
    "    \n",
    "    list_d = tiny_data.groupby('user_id', sort=False)[col].progress_apply(list).reset_index()\n",
    "    list_d.columns = ['user_id', col]\n",
    "    list_d = list_d.sort_values(by='user_id').reset_index(drop=True)\n",
    "    list_d[col].to_pickle('./idlist/{}_list.pkl'.format(col))"
   ]
  }
 ],
 "metadata": {
  "kernelspec": {
   "display_name": "conda_tensorflow_py3",
   "language": "python",
   "name": "conda_tensorflow_py3"
  },
  "language_info": {
   "codemirror_mode": {
    "name": "ipython",
    "version": 3
   },
   "file_extension": ".py",
   "mimetype": "text/x-python",
   "name": "python",
   "nbconvert_exporter": "python",
   "pygments_lexer": "ipython3",
   "version": "3.6.5"
  }
 },
 "nbformat": 4,
 "nbformat_minor": 4
}
